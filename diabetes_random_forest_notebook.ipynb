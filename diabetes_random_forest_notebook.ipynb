{
 "cells": [
  {
   "cell_type": "markdown",
   "id": "aaf9b6ac",
   "metadata": {},
   "source": [
    "\n",
    "# Diabetes prediksjon\n"
   ]
  },
  {
   "cell_type": "markdown",
   "id": "09624421",
   "metadata": {},
   "source": [
    "## 1) Importer biblioteker"
   ]
  },
  {
   "cell_type": "code",
   "execution_count": 20,
   "id": "04ce2a66",
   "metadata": {},
   "outputs": [],
   "source": [
    "\n",
    "import os\n",
    "import sys\n",
    "import numpy as np\n",
    "import pandas as pd\n",
    "import matplotlib.pyplot as plt\n",
    "\n",
    "from sklearn.model_selection import train_test_split\n",
    "from sklearn.preprocessing import StandardScaler, OneHotEncoder, PowerTransformer\n",
    "from sklearn.decomposition import PCA\n",
    "from sklearn.compose import ColumnTransformer\n",
    "from sklearn.pipeline import Pipeline\n",
    "from sklearn.impute import SimpleImputer\n",
    "from sklearn.ensemble import RandomForestClassifier, GradientBoostingClassifier\n",
    "from sklearn.inspection import permutation_importance\n",
    "\n",
    "from sklearn.metrics import (\n",
    "    accuracy_score,\n",
    "    precision_score,\n",
    "    recall_score,\n",
    "    f1_score,\n",
    "    roc_auc_score,\n",
    "    RocCurveDisplay,\n",
    "    PrecisionRecallDisplay,\n",
    "    average_precision_score,\n",
    "    confusion_matrix,\n",
    "    classification_report,\n",
    ")\n",
    "\n",
    "# Matplotlib: vis figurer i notebook\n",
    "%matplotlib inline\n"
   ]
  },
  {
   "cell_type": "markdown",
   "id": "84bff20d",
   "metadata": {},
   "source": [
    "## 2) Last inn data"
   ]
  },
  {
   "cell_type": "code",
   "execution_count": 21,
   "id": "0f32e57a",
   "metadata": {},
   "outputs": [
    {
     "name": "stdout",
     "output_type": "stream",
     "text": [
      "=== Preview of the dataset ===\n"
     ]
    },
    {
     "data": {
      "text/html": [
       "<div>\n",
       "<style scoped>\n",
       "    .dataframe tbody tr th:only-of-type {\n",
       "        vertical-align: middle;\n",
       "    }\n",
       "\n",
       "    .dataframe tbody tr th {\n",
       "        vertical-align: top;\n",
       "    }\n",
       "\n",
       "    .dataframe thead th {\n",
       "        text-align: right;\n",
       "    }\n",
       "</style>\n",
       "<table border=\"1\" class=\"dataframe\">\n",
       "  <thead>\n",
       "    <tr style=\"text-align: right;\">\n",
       "      <th></th>\n",
       "      <th>Pregnancies</th>\n",
       "      <th>Glucose</th>\n",
       "      <th>BloodPressure</th>\n",
       "      <th>SkinThickness</th>\n",
       "      <th>Insulin</th>\n",
       "      <th>BMI</th>\n",
       "      <th>DiabetesPedigreeFunction</th>\n",
       "      <th>Age</th>\n",
       "      <th>Outcome</th>\n",
       "    </tr>\n",
       "  </thead>\n",
       "  <tbody>\n",
       "    <tr>\n",
       "      <th>0</th>\n",
       "      <td>6</td>\n",
       "      <td>148</td>\n",
       "      <td>72</td>\n",
       "      <td>35</td>\n",
       "      <td>0</td>\n",
       "      <td>33.6</td>\n",
       "      <td>0.627</td>\n",
       "      <td>50</td>\n",
       "      <td>1</td>\n",
       "    </tr>\n",
       "    <tr>\n",
       "      <th>1</th>\n",
       "      <td>1</td>\n",
       "      <td>85</td>\n",
       "      <td>66</td>\n",
       "      <td>29</td>\n",
       "      <td>0</td>\n",
       "      <td>26.6</td>\n",
       "      <td>0.351</td>\n",
       "      <td>31</td>\n",
       "      <td>0</td>\n",
       "    </tr>\n",
       "    <tr>\n",
       "      <th>2</th>\n",
       "      <td>8</td>\n",
       "      <td>183</td>\n",
       "      <td>64</td>\n",
       "      <td>0</td>\n",
       "      <td>0</td>\n",
       "      <td>23.3</td>\n",
       "      <td>0.672</td>\n",
       "      <td>32</td>\n",
       "      <td>1</td>\n",
       "    </tr>\n",
       "    <tr>\n",
       "      <th>3</th>\n",
       "      <td>1</td>\n",
       "      <td>89</td>\n",
       "      <td>66</td>\n",
       "      <td>23</td>\n",
       "      <td>94</td>\n",
       "      <td>28.1</td>\n",
       "      <td>0.167</td>\n",
       "      <td>21</td>\n",
       "      <td>0</td>\n",
       "    </tr>\n",
       "    <tr>\n",
       "      <th>4</th>\n",
       "      <td>0</td>\n",
       "      <td>137</td>\n",
       "      <td>40</td>\n",
       "      <td>35</td>\n",
       "      <td>168</td>\n",
       "      <td>43.1</td>\n",
       "      <td>2.288</td>\n",
       "      <td>33</td>\n",
       "      <td>1</td>\n",
       "    </tr>\n",
       "    <tr>\n",
       "      <th>5</th>\n",
       "      <td>5</td>\n",
       "      <td>116</td>\n",
       "      <td>74</td>\n",
       "      <td>0</td>\n",
       "      <td>0</td>\n",
       "      <td>25.6</td>\n",
       "      <td>0.201</td>\n",
       "      <td>30</td>\n",
       "      <td>0</td>\n",
       "    </tr>\n",
       "    <tr>\n",
       "      <th>6</th>\n",
       "      <td>3</td>\n",
       "      <td>78</td>\n",
       "      <td>50</td>\n",
       "      <td>32</td>\n",
       "      <td>88</td>\n",
       "      <td>31.0</td>\n",
       "      <td>0.248</td>\n",
       "      <td>26</td>\n",
       "      <td>1</td>\n",
       "    </tr>\n",
       "    <tr>\n",
       "      <th>7</th>\n",
       "      <td>10</td>\n",
       "      <td>115</td>\n",
       "      <td>0</td>\n",
       "      <td>0</td>\n",
       "      <td>0</td>\n",
       "      <td>35.3</td>\n",
       "      <td>0.134</td>\n",
       "      <td>29</td>\n",
       "      <td>0</td>\n",
       "    </tr>\n",
       "    <tr>\n",
       "      <th>8</th>\n",
       "      <td>2</td>\n",
       "      <td>197</td>\n",
       "      <td>70</td>\n",
       "      <td>45</td>\n",
       "      <td>543</td>\n",
       "      <td>30.5</td>\n",
       "      <td>0.158</td>\n",
       "      <td>53</td>\n",
       "      <td>1</td>\n",
       "    </tr>\n",
       "    <tr>\n",
       "      <th>9</th>\n",
       "      <td>8</td>\n",
       "      <td>125</td>\n",
       "      <td>96</td>\n",
       "      <td>0</td>\n",
       "      <td>0</td>\n",
       "      <td>0.0</td>\n",
       "      <td>0.232</td>\n",
       "      <td>54</td>\n",
       "      <td>1</td>\n",
       "    </tr>\n",
       "  </tbody>\n",
       "</table>\n",
       "</div>"
      ],
      "text/plain": [
       "   Pregnancies  Glucose  BloodPressure  SkinThickness  Insulin   BMI  \\\n",
       "0            6      148             72             35        0  33.6   \n",
       "1            1       85             66             29        0  26.6   \n",
       "2            8      183             64              0        0  23.3   \n",
       "3            1       89             66             23       94  28.1   \n",
       "4            0      137             40             35      168  43.1   \n",
       "5            5      116             74              0        0  25.6   \n",
       "6            3       78             50             32       88  31.0   \n",
       "7           10      115              0              0        0  35.3   \n",
       "8            2      197             70             45      543  30.5   \n",
       "9            8      125             96              0        0   0.0   \n",
       "\n",
       "   DiabetesPedigreeFunction  Age  Outcome  \n",
       "0                     0.627   50        1  \n",
       "1                     0.351   31        0  \n",
       "2                     0.672   32        1  \n",
       "3                     0.167   21        0  \n",
       "4                     2.288   33        1  \n",
       "5                     0.201   30        0  \n",
       "6                     0.248   26        1  \n",
       "7                     0.134   29        0  \n",
       "8                     0.158   53        1  \n",
       "9                     0.232   54        1  "
      ]
     },
     "metadata": {},
     "output_type": "display_data"
    },
    {
     "name": "stdout",
     "output_type": "stream",
     "text": [
      "\n",
      "Shape: (768, 9)\n",
      "Columns: ['Pregnancies', 'Glucose', 'BloodPressure', 'SkinThickness', 'Insulin', 'BMI', 'DiabetesPedigreeFunction', 'Age', 'Outcome']\n"
     ]
    }
   ],
   "source": [
    "\n",
    "csv_path = \"diabetes.csv\"\n",
    "if not os.path.exists(csv_path):\n",
    "    raise FileNotFoundError(f\"Fant ikke '{csv_path}'. Legg fila i samme mappe som notatboken eller oppgi full sti.\")\n",
    "\n",
    "df = pd.read_csv(csv_path)\n",
    "\n",
    "print(\"=== Preview of the dataset ===\")\n",
    "display(df.head(10))\n",
    "print(\"\\nShape:\", df.shape)\n",
    "print(\"Columns:\", list(df.columns))\n"
   ]
  },
  {
   "cell_type": "markdown",
   "id": "4d482510",
   "metadata": {},
   "source": [
    "## 3) Del opp i features (X) og target (y)"
   ]
  },
  {
   "cell_type": "code",
   "execution_count": 22,
   "id": "76cbdfa2",
   "metadata": {},
   "outputs": [
    {
     "data": {
      "text/html": [
       "<div>\n",
       "<style scoped>\n",
       "    .dataframe tbody tr th:only-of-type {\n",
       "        vertical-align: middle;\n",
       "    }\n",
       "\n",
       "    .dataframe tbody tr th {\n",
       "        vertical-align: top;\n",
       "    }\n",
       "\n",
       "    .dataframe thead th {\n",
       "        text-align: right;\n",
       "    }\n",
       "</style>\n",
       "<table border=\"1\" class=\"dataframe\">\n",
       "  <thead>\n",
       "    <tr style=\"text-align: right;\">\n",
       "      <th></th>\n",
       "      <th>Pregnancies</th>\n",
       "      <th>Glucose</th>\n",
       "      <th>BloodPressure</th>\n",
       "      <th>SkinThickness</th>\n",
       "      <th>Insulin</th>\n",
       "      <th>BMI</th>\n",
       "      <th>DiabetesPedigreeFunction</th>\n",
       "      <th>Age</th>\n",
       "    </tr>\n",
       "  </thead>\n",
       "  <tbody>\n",
       "    <tr>\n",
       "      <th>0</th>\n",
       "      <td>6</td>\n",
       "      <td>148</td>\n",
       "      <td>72</td>\n",
       "      <td>35</td>\n",
       "      <td>0</td>\n",
       "      <td>33.6</td>\n",
       "      <td>0.627</td>\n",
       "      <td>50</td>\n",
       "    </tr>\n",
       "    <tr>\n",
       "      <th>1</th>\n",
       "      <td>1</td>\n",
       "      <td>85</td>\n",
       "      <td>66</td>\n",
       "      <td>29</td>\n",
       "      <td>0</td>\n",
       "      <td>26.6</td>\n",
       "      <td>0.351</td>\n",
       "      <td>31</td>\n",
       "    </tr>\n",
       "    <tr>\n",
       "      <th>2</th>\n",
       "      <td>8</td>\n",
       "      <td>183</td>\n",
       "      <td>64</td>\n",
       "      <td>0</td>\n",
       "      <td>0</td>\n",
       "      <td>23.3</td>\n",
       "      <td>0.672</td>\n",
       "      <td>32</td>\n",
       "    </tr>\n",
       "    <tr>\n",
       "      <th>3</th>\n",
       "      <td>1</td>\n",
       "      <td>89</td>\n",
       "      <td>66</td>\n",
       "      <td>23</td>\n",
       "      <td>94</td>\n",
       "      <td>28.1</td>\n",
       "      <td>0.167</td>\n",
       "      <td>21</td>\n",
       "    </tr>\n",
       "    <tr>\n",
       "      <th>4</th>\n",
       "      <td>0</td>\n",
       "      <td>137</td>\n",
       "      <td>40</td>\n",
       "      <td>35</td>\n",
       "      <td>168</td>\n",
       "      <td>43.1</td>\n",
       "      <td>2.288</td>\n",
       "      <td>33</td>\n",
       "    </tr>\n",
       "  </tbody>\n",
       "</table>\n",
       "</div>"
      ],
      "text/plain": [
       "   Pregnancies  Glucose  BloodPressure  SkinThickness  Insulin   BMI  \\\n",
       "0            6      148             72             35        0  33.6   \n",
       "1            1       85             66             29        0  26.6   \n",
       "2            8      183             64              0        0  23.3   \n",
       "3            1       89             66             23       94  28.1   \n",
       "4            0      137             40             35      168  43.1   \n",
       "\n",
       "   DiabetesPedigreeFunction  Age  \n",
       "0                     0.627   50  \n",
       "1                     0.351   31  \n",
       "2                     0.672   32  \n",
       "3                     0.167   21  \n",
       "4                     2.288   33  "
      ]
     },
     "execution_count": 22,
     "metadata": {},
     "output_type": "execute_result"
    }
   ],
   "source": [
    "\n",
    "target_col = \"Outcome\" if \"Outcome\" in df.columns else df.columns[-1]\n",
    "if target_col != \"Outcome\":\n",
    "    print(f\"[Info] 'Outcome' column not found. Using last column as target: {target_col}\")\n",
    "\n",
    "X = df.drop(columns=[target_col])\n",
    "y = df[target_col]\n",
    "\n",
    "X.head()\n"
   ]
  },
  {
   "cell_type": "markdown",
   "id": "697a83eb",
   "metadata": {},
   "source": [
    "## 4) Pre-prosessering - datavask"
   ]
  },
  {
   "cell_type": "code",
   "execution_count": 23,
   "id": "38a2aa3c",
   "metadata": {},
   "outputs": [
    {
     "data": {
      "text/plain": [
       "Pregnancies                   0\n",
       "Glucose                       5\n",
       "BloodPressure                35\n",
       "SkinThickness               227\n",
       "Insulin                     374\n",
       "BMI                          11\n",
       "DiabetesPedigreeFunction      0\n",
       "Age                           0\n",
       "dtype: int64"
      ]
     },
     "execution_count": 23,
     "metadata": {},
     "output_type": "execute_result"
    }
   ],
   "source": [
    "\n",
    "candidate_cols = [\"Glucose\",\"BloodPressure\",\"SkinThickness\",\"Insulin\",\"BMI\"]\n",
    "zero_as_missing = [c for c in candidate_cols if c in X.columns]\n",
    "\n",
    "X_clean = X.copy()\n",
    "for c in zero_as_missing:\n",
    "    X_clean[c] = X_clean[c].replace(0, np.nan)\n",
    "\n",
    "# Oversikt over manglende etter erstatning\n",
    "X_clean.isna().sum()\n"
   ]
  },
  {
   "cell_type": "markdown",
   "id": "f215b76a",
   "metadata": {},
   "source": [
    "## 5) Splitter data opp i treningssett og testsett"
   ]
  },
  {
   "cell_type": "code",
   "execution_count": 24,
   "id": "0060d022",
   "metadata": {},
   "outputs": [
    {
     "data": {
      "text/plain": [
       "((614, 8), (154, 8))"
      ]
     },
     "execution_count": 24,
     "metadata": {},
     "output_type": "execute_result"
    }
   ],
   "source": [
    "\n",
    "strat = y if y.nunique() <= 20 else None\n",
    "X_train, X_test, y_train, y_test = train_test_split(\n",
    "    X_clean, y, test_size=0.2, random_state=42, stratify=strat\n",
    ")\n",
    "\n",
    "X_train.shape, X_test.shape\n"
   ]
  },
  {
   "cell_type": "markdown",
   "id": "87910c78",
   "metadata": {},
   "source": [
    "## 6) Ytterligere pre-prossering og datavask"
   ]
  },
  {
   "cell_type": "code",
   "execution_count": 25,
   "id": "e6dc0968",
   "metadata": {},
   "outputs": [],
   "source": [
    "\n",
    "all_num_features = X_train.columns.tolist()\n",
    "\n",
    "# ColumnTransformer som imputerer alle feature-kolonner\n",
    "imputer_all = ColumnTransformer(\n",
    "    transformers=[(\"impute_all\", SimpleImputer(strategy=\"median\"), all_num_features)],\n",
    "    remainder=\"drop\"\n",
    ")\n"
   ]
  },
  {
   "cell_type": "markdown",
   "id": "40c06fdd",
   "metadata": {},
   "source": [
    "## 7) Baseline: RandomForest (med imputering)\n",
    "Når et datasett har “hull” (f.eks. NaN, tomme celler eller verdier som er ugyldige som 0 i blodtrykk), må vi bestemme oss for hvordan vi håndterer dem. Mange maskinlæringsalgoritmer krasjer hvis de får NaN."
   ]
  },
  {
   "cell_type": "code",
   "execution_count": 26,
   "id": "ec86cca6",
   "metadata": {},
   "outputs": [
    {
     "name": "stdout",
     "output_type": "stream",
     "text": [
      "=== Baseline RF (med imputering) ===\n",
      "Accuracy : 0.7662337662337663\n",
      "Precision: 0.6956521739130435\n",
      "Recall   : 0.5925925925925926\n",
      "F1 Score : 0.64\n"
     ]
    }
   ],
   "source": [
    "\n",
    "rf_base = Pipeline([\n",
    "    (\"impute\", SimpleImputer(strategy=\"median\")),\n",
    "    (\"rf\", RandomForestClassifier(n_estimators=100, random_state=42))\n",
    "])\n",
    "rf_base.fit(X_train, y_train)\n",
    "y_pred_base = rf_base.predict(X_test)\n",
    "\n",
    "print(\"=== Baseline RF (med imputering) ===\")\n",
    "print(\"Accuracy :\", accuracy_score(y_test, y_pred_base))\n",
    "print(\"Precision:\", precision_score(y_test, y_pred_base, zero_division=0))\n",
    "print(\"Recall   :\", recall_score(y_test, y_pred_base, zero_division=0))\n",
    "print(\"F1 Score :\", f1_score(y_test, y_pred_base, zero_division=0))\n"
   ]
  },
  {
   "cell_type": "markdown",
   "id": "4feba951",
   "metadata": {},
   "source": [
    "## 8) GradientBoostingClassifier (med imputering)"
   ]
  },
  {
   "cell_type": "code",
   "execution_count": 27,
   "id": "444df702",
   "metadata": {},
   "outputs": [
    {
     "name": "stdout",
     "output_type": "stream",
     "text": [
      "=== GradientBoostingClassifier (med imputering) ===\n",
      "Accuracy : 0.7662337662337663\n",
      "Precision: 0.6875\n",
      "Recall   : 0.6111111111111112\n",
      "F1 Score : 0.6470588235294118\n",
      "ROC AUC  : 0.83\n"
     ]
    }
   ],
   "source": [
    "\n",
    "gb = Pipeline([\n",
    "    (\"impute\", SimpleImputer(strategy=\"median\")),   # sikrer ingen NaN treffer GB\n",
    "    (\"gb\", GradientBoostingClassifier(\n",
    "        n_estimators=200,\n",
    "        learning_rate=0.05,\n",
    "        max_depth=3,\n",
    "        random_state=42\n",
    "    ))\n",
    "])\n",
    "gb.fit(X_train, y_train)\n",
    "y_pred_gb = gb.predict(X_test)\n",
    "y_proba_gb = gb.predict_proba(X_test)[:, 1]\n",
    "\n",
    "print(\"=== GradientBoostingClassifier (med imputering) ===\")\n",
    "print(\"Accuracy :\", accuracy_score(y_test, y_pred_gb))\n",
    "print(\"Precision:\", precision_score(y_test, y_pred_gb, zero_division=0))\n",
    "print(\"Recall   :\", recall_score(y_test, y_pred_gb, zero_division=0))\n",
    "print(\"F1 Score :\", f1_score(y_test, y_pred_gb, zero_division=0))\n",
    "print(\"ROC AUC  :\", roc_auc_score(y_test, y_proba_gb))\n"
   ]
  },
  {
   "cell_type": "markdown",
   "id": "ebd6fefc",
   "metadata": {},
   "source": [
    "## 9) Pipeline: ColumnTransformer (imputer alle) + RandomForest"
   ]
  },
  {
   "cell_type": "code",
   "execution_count": 28,
   "id": "9efe0075",
   "metadata": {},
   "outputs": [
    {
     "name": "stdout",
     "output_type": "stream",
     "text": [
      "=== Test Metrics (Pipeline RF) ===\n",
      "Accuracy : 0.740\n",
      "Precision: 0.659\n",
      "Recall   : 0.537\n",
      "F1-score : 0.592\n",
      "ROC AUC  : 0.816\n",
      "\n",
      "Classification report:\n",
      "               precision    recall  f1-score   support\n",
      "\n",
      "           0      0.773     0.850     0.810       100\n",
      "           1      0.659     0.537     0.592        54\n",
      "\n",
      "    accuracy                          0.740       154\n",
      "   macro avg      0.716     0.694     0.701       154\n",
      "weighted avg      0.733     0.740     0.733       154\n",
      "\n"
     ]
    }
   ],
   "source": [
    "\n",
    "preprocess = ColumnTransformer(\n",
    "    transformers=[(\"impute_all\", SimpleImputer(strategy=\"median\"), all_num_features)],\n",
    "    remainder=\"drop\"\n",
    ")\n",
    "\n",
    "rf = RandomForestClassifier(\n",
    "    n_estimators=300,\n",
    "    max_depth=None,\n",
    "    random_state=42,\n",
    "    n_jobs=-1,\n",
    "    class_weight=None\n",
    ")\n",
    "\n",
    "pipe = Pipeline(steps=[(\"prep\", preprocess), (\"rf\", rf)])\n",
    "pipe.fit(X_train, y_train)\n",
    "\n",
    "y_pred = pipe.predict(X_test)\n",
    "y_proba = pipe.predict_proba(X_test)[:, 1]\n",
    "\n",
    "acc = accuracy_score(y_test, y_pred)\n",
    "prec = precision_score(y_test, y_pred, zero_division=0)\n",
    "rec = recall_score(y_test, y_pred, zero_division=0)\n",
    "f1 = f1_score(y_test, y_pred, zero_division=0)\n",
    "roc = roc_auc_score(y_test, y_proba)\n",
    "\n",
    "print(\"=== Test Metrics (Pipeline RF) ===\")\n",
    "print(f\"Accuracy : {acc:.3f}\")\n",
    "print(f\"Precision: {prec:.3f}\")\n",
    "print(f\"Recall   : {rec:.3f}\")\n",
    "print(f\"F1-score : {f1:.3f}\")\n",
    "print(f\"ROC AUC  : {roc:.3f}\")\n",
    "\n",
    "print(\"\\nClassification report:\\n\", classification_report(y_test, y_pred, digits=3))\n"
   ]
  },
  {
   "cell_type": "markdown",
   "id": "13e6c9e1",
   "metadata": {},
   "source": [
    "## 10) Feature importances (Random Forest)"
   ]
  },
  {
   "cell_type": "code",
   "execution_count": 29,
   "id": "6e04fc95",
   "metadata": {},
   "outputs": [
    {
     "data": {
      "text/plain": [
       "Glucose                     0.267931\n",
       "BMI                         0.159848\n",
       "DiabetesPedigreeFunction    0.124381\n",
       "Age                         0.121357\n",
       "Insulin                     0.090604\n",
       "BloodPressure               0.084977\n",
       "Pregnancies                 0.079366\n",
       "SkinThickness               0.071537\n",
       "dtype: float64"
      ]
     },
     "metadata": {},
     "output_type": "display_data"
    },
    {
     "data": {
      "image/png": "[encoded data removed]",
      "text/plain": [
       "<Figure size 640x480 with 1 Axes>"
      ]
     },
     "metadata": {},
     "output_type": "display_data"
    }
   ],
   "source": [
    "\n",
    "rf_model = pipe.named_steps[\"rf\"]\n",
    "transformed_feature_names = all_num_features\n",
    "\n",
    "importances = pd.Series(rf_model.feature_importances_, index=transformed_feature_names).sort_values(ascending=False)\n",
    "display(importances)\n",
    "\n",
    "plt.figure()\n",
    "importances.sort_values(ascending=True).plot(kind=\"barh\")\n",
    "plt.title(\"Random Forest Feature Importances (Diabetes)\")\n",
    "plt.xlabel(\"Importance\")\n",
    "plt.tight_layout()\n",
    "plt.show()\n"
   ]
  },
  {
   "cell_type": "markdown",
   "id": "83eb231c",
   "metadata": {},
   "source": [
    "## 11) ROC- og PR-kurver (RF-pipeline)"
   ]
  },
  {
   "cell_type": "code",
   "execution_count": 30,
   "id": "d257ca69",
   "metadata": {},
   "outputs": [
    {
     "data": {
      "text/plain": [
       "<Figure size 640x480 with 0 Axes>"
      ]
     },
     "metadata": {},
     "output_type": "display_data"
    },
    {
     "data": {
      "image/png": "[encoded data removed]",
      "text/plain": [
       "<Figure size 640x480 with 1 Axes>"
      ]
     },
     "metadata": {},
     "output_type": "display_data"
    },
    {
     "data": {
      "text/plain": [
       "<Figure size 640x480 with 0 Axes>"
      ]
     },
     "metadata": {},
     "output_type": "display_data"
    },
    {
     "data": {
      "image/png": "[encoded data removed]",
      "text/plain": [
       "<Figure size 640x480 with 1 Axes>"
      ]
     },
     "metadata": {},
     "output_type": "display_data"
    },
    {
     "name": "stdout",
     "output_type": "stream",
     "text": [
      "Average Precision (area under PR curve): 0.7016967934730705\n"
     ]
    }
   ],
   "source": [
    "\n",
    "plt.figure()\n",
    "RocCurveDisplay.from_predictions(y_test, y_proba)\n",
    "plt.title(\"ROC Curve - Random Forest (Pipeline)\")\n",
    "plt.tight_layout()\n",
    "plt.show()\n",
    "\n",
    "plt.figure()\n",
    "PrecisionRecallDisplay.from_predictions(y_test, y_proba)\n",
    "plt.title(\"Precision-Recall Curve - Random Forest (Pipeline)\")\n",
    "plt.tight_layout()\n",
    "plt.show()\n",
    "\n",
    "print(\"Average Precision (area under PR curve):\", average_precision_score(y_test, y_proba))\n"
   ]
  },
  {
   "cell_type": "markdown",
   "id": "aa4b92bc",
   "metadata": {},
   "source": [
    "## 12) Lagre renset kopi av datasettet"
   ]
  },
  {
   "cell_type": "code",
   "execution_count": 31,
   "id": "72823246",
   "metadata": {},
   "outputs": [
    {
     "name": "stdout",
     "output_type": "stream",
     "text": [
      "Saved cleaned dataset to: diabetes_clean.csv\n"
     ]
    }
   ],
   "source": [
    "\n",
    "df_clean = X_clean.copy()\n",
    "df_clean[target_col] = y\n",
    "clean_path = \"diabetes_clean.csv\"\n",
    "df_clean.to_csv(clean_path, index=False)\n",
    "print(f\"Saved cleaned dataset to: {clean_path}\")\n"
   ]
  },
  {
   "cell_type": "markdown",
   "id": "4d76e465",
   "metadata": {},
   "source": [
    "## 13) Hyperparametertuning — Random Forest (n_estimators, max_features m.m.)"
   ]
  },
  {
   "cell_type": "code",
   "execution_count": 32,
   "id": "c70c2961",
   "metadata": {},
   "outputs": [
    {
     "name": "stdout",
     "output_type": "stream",
     "text": [
      "Fitting 10 folds for each of 60 candidates, totalling 600 fits\n",
      "RF best CV F1: 0.6963005983672799\n",
      "RF best params: {'rf__bootstrap': True, 'rf__class_weight': 'balanced', 'rf__max_depth': 4, 'rf__max_features': 'sqrt', 'rf__min_samples_leaf': 10, 'rf__min_samples_split': 4, 'rf__n_estimators': 1071}\n",
      "\n",
      "RF (best) — test metrics\n",
      "Accuracy : 0.7467532467532467\n",
      "Precision: 0.6086956521739131\n",
      "Recall   : 0.7777777777777778\n",
      "F1       : 0.6829268292682927\n",
      "ROC AUC  : 0.8166666666666668\n"
     ]
    }
   ],
   "source": [
    "# 13) Hyperparametertuning — Random Forest (n_estimators, max_features m.m.)\n",
    "from sklearn.model_selection import RepeatedStratifiedKFold, RandomizedSearchCV  # nye imports for tuning\n",
    "from scipy.stats import randint, uniform  # nye imports for fordelinger i RandomizedSearchCV\n",
    "\n",
    "# Imputer ALLE features (robust mot NaN uansett tidligere rensing)\n",
    "num_features_opt = X_train.columns.tolist()\n",
    "preprocess_opt = ColumnTransformer(\n",
    "    transformers=[(\"impute_all\", SimpleImputer(strategy=\"median\"), num_features_opt)],\n",
    "    remainder=\"drop\"\n",
    ")\n",
    "\n",
    "cv = RepeatedStratifiedKFold(n_splits=5, n_repeats=2, random_state=42)\n",
    "\n",
    "rf = RandomForestClassifier(random_state=42, n_jobs=-1)\n",
    "rf_pipe = Pipeline([(\"prep\", preprocess_opt), (\"rf\", rf)])\n",
    "\n",
    "rf_dist = {\n",
    "    \"rf__n_estimators\": randint(200, 1201),                 # antall trær\n",
    "    \"rf__max_features\": [\"sqrt\", \"log2\", 0.3, 0.5, 0.7],    # prediktorer per split\n",
    "    \"rf__max_depth\": [None] + list(range(4, 25, 2)),\n",
    "    \"rf__min_samples_split\": randint(2, 21),\n",
    "    \"rf__min_samples_leaf\": randint(1, 11),\n",
    "    \"rf__bootstrap\": [True, False],\n",
    "    \"rf__class_weight\": [None, \"balanced\"],\n",
    "}\n",
    "\n",
    "rf_rs = RandomizedSearchCV(\n",
    "    estimator=rf_pipe,\n",
    "    param_distributions=rf_dist,\n",
    "    n_iter=60,\n",
    "    scoring=\"f1\",\n",
    "    cv=cv,\n",
    "    n_jobs=-1,\n",
    "    random_state=42,\n",
    "    verbose=1\n",
    ")\n",
    "rf_rs.fit(X_train, y_train)\n",
    "\n",
    "rf_opt = rf_rs.best_estimator_\n",
    "y_pred_rf_opt  = rf_opt.predict(X_test)\n",
    "y_proba_rf_opt = rf_opt.predict_proba(X_test)[:, 1]\n",
    "\n",
    "print(\"RF best CV F1:\", rf_rs.best_score_)\n",
    "print(\"RF best params:\", rf_rs.best_params_)\n",
    "print(\"\\nRF (best) — test metrics\")\n",
    "print(\"Accuracy :\", accuracy_score(y_test, y_pred_rf_opt))\n",
    "print(\"Precision:\", precision_score(y_test, y_pred_rf_opt, zero_division=0))\n",
    "print(\"Recall   :\", recall_score(y_test, y_pred_rf_opt, zero_division=0))\n",
    "print(\"F1       :\", f1_score(y_test, y_pred_rf_opt, zero_division=0))\n",
    "print(\"ROC AUC  :\", roc_auc_score(y_test, y_proba_rf_opt))\n",
    "\n",
    "rf_metrics = {\n",
    "    \"model\": \"RandomForest(best)\",\n",
    "    \"n_estimators\": rf_rs.best_params_[\"rf__n_estimators\"],\n",
    "    \"max_features\": rf_rs.best_params_[\"rf__max_features\"],\n",
    "    \"accuracy\": accuracy_score(y_test, y_pred_rf_opt),\n",
    "    \"precision\": precision_score(y_test, y_pred_rf_opt, zero_division=0),\n",
    "    \"recall\": recall_score(y_test, y_pred_rf_opt, zero_division=0),\n",
    "    \"f1\": f1_score(y_test, y_pred_rf_opt, zero_division=0),\n",
    "    \"roc_auc\": roc_auc_score(y_test, y_proba_rf_opt),\n",
    "}\n"
   ]
  },
  {
   "cell_type": "markdown",
   "id": "f84e552d",
   "metadata": {},
   "source": [
    "## 14) Hyperparametertuning — Gradient Boosting (n_estimators, learning_rate, max_features)"
   ]
  },
  {
   "cell_type": "code",
   "execution_count": 33,
   "id": "444a18c2",
   "metadata": {},
   "outputs": [
    {
     "name": "stdout",
     "output_type": "stream",
     "text": [
      "Fitting 10 folds for each of 60 candidates, totalling 600 fits\n",
      "GB best CV F1: 0.6373579085022298\n",
      "GB best params: {'gb__learning_rate': np.float64(0.01906606426141327), 'gb__max_depth': 3, 'gb__max_features': None, 'gb__min_samples_leaf': 5, 'gb__min_samples_split': 15, 'gb__n_estimators': 419, 'gb__subsample': np.float64(0.618401056808701)}\n",
      "\n",
      "GB (best) — test metrics\n",
      "Accuracy : 0.7532467532467533\n",
      "Precision: 0.6666666666666666\n",
      "Recall   : 0.5925925925925926\n",
      "F1       : 0.6274509803921569\n",
      "ROC AUC  : 0.8255555555555555\n"
     ]
    }
   ],
   "source": [
    "# 14) Hyperparametertuning — Gradient Boosting (n_estimators, learning_rate, max_features)\n",
    "from sklearn.model_selection import RandomizedSearchCV  # kun ny hvis ikke importert i celle 13 (her er det samme obj)\n",
    "from scipy.stats import randint, uniform                # samme som over\n",
    "\n",
    "gb = GradientBoostingClassifier(random_state=42)\n",
    "gb_pipe = Pipeline([(\"prep\", preprocess_opt), (\"gb\", gb)])\n",
    "\n",
    "gb_dist = {\n",
    "    \"gb__n_estimators\": randint(200, 1001),          # antall trær\n",
    "    \"gb__learning_rate\": uniform(0.01, 0.19),        # 0.01–0.20\n",
    "    \"gb__max_depth\": randint(2, 6),                  # base-tre dybde\n",
    "    \"gb__min_samples_split\": randint(2, 21),\n",
    "    \"gb__min_samples_leaf\": randint(1, 11),\n",
    "    \"gb__subsample\": uniform(0.6, 0.4),              # 0.6–1.0 (stochastic boosting)\n",
    "    \"gb__max_features\": [\"sqrt\", \"log2\", None],\n",
    "}\n",
    "\n",
    "gb_rs = RandomizedSearchCV(\n",
    "    estimator=gb_pipe,\n",
    "    param_distributions=gb_dist,\n",
    "    n_iter=60,\n",
    "    scoring=\"f1\",\n",
    "    cv=cv,\n",
    "    n_jobs=-1,\n",
    "    random_state=42,\n",
    "    verbose=1\n",
    ")\n",
    "gb_rs.fit(X_train, y_train)\n",
    "\n",
    "gb_opt = gb_rs.best_estimator_\n",
    "y_pred_gb_opt  = gb_opt.predict(X_test)\n",
    "y_proba_gb_opt = gb_opt.predict_proba(X_test)[:, 1]\n",
    "\n",
    "print(\"GB best CV F1:\", gb_rs.best_score_)\n",
    "print(\"GB best params:\", gb_rs.best_params_)\n",
    "print(\"\\nGB (best) — test metrics\")\n",
    "print(\"Accuracy :\", accuracy_score(y_test, y_pred_gb_opt))\n",
    "print(\"Precision:\", precision_score(y_test, y_pred_gb_opt, zero_division=0))\n",
    "print(\"Recall   :\", recall_score(y_test, y_pred_gb_opt, zero_division=0))\n",
    "print(\"F1       :\", f1_score(y_test, y_pred_gb_opt, zero_division=0))\n",
    "print(\"ROC AUC  :\", roc_auc_score(y_test, y_proba_gb_opt))\n",
    "\n",
    "gb_metrics = {\n",
    "    \"model\": \"GradientBoosting(best)\",\n",
    "    \"n_estimators\": gb_rs.best_params_[\"gb__n_estimators\"],\n",
    "    \"max_features\": gb_rs.best_params_[\"gb__max_features\"],\n",
    "    \"learning_rate\": gb_rs.best_params_[\"gb__learning_rate\"],\n",
    "    \"accuracy\": accuracy_score(y_test, y_pred_gb_opt),\n",
    "    \"precision\": precision_score(y_test, y_pred_gb_opt, zero_division=0),\n",
    "    \"recall\": recall_score(y_test, y_pred_gb_opt, zero_division=0),\n",
    "    \"f1\": f1_score(y_test, y_pred_gb_opt, zero_division=0),\n",
    "    \"roc_auc\": roc_auc_score(y_test, y_proba_gb_opt),\n",
    "}\n"
   ]
  },
  {
   "cell_type": "markdown",
   "id": "bf4ae3a8",
   "metadata": {},
   "source": [
    "## 15) Sammenligning og kurver + kladd til forklaring"
   ]
  },
  {
   "cell_type": "code",
   "execution_count": 34,
   "id": "30fbb93b",
   "metadata": {},
   "outputs": [
    {
     "data": {
      "text/html": [
       "<div>\n",
       "<style scoped>\n",
       "    .dataframe tbody tr th:only-of-type {\n",
       "        vertical-align: middle;\n",
       "    }\n",
       "\n",
       "    .dataframe tbody tr th {\n",
       "        vertical-align: top;\n",
       "    }\n",
       "\n",
       "    .dataframe thead th {\n",
       "        text-align: right;\n",
       "    }\n",
       "</style>\n",
       "<table border=\"1\" class=\"dataframe\">\n",
       "  <thead>\n",
       "    <tr style=\"text-align: right;\">\n",
       "      <th></th>\n",
       "      <th>n_estimators</th>\n",
       "      <th>max_features</th>\n",
       "      <th>accuracy</th>\n",
       "      <th>precision</th>\n",
       "      <th>recall</th>\n",
       "      <th>f1</th>\n",
       "      <th>roc_auc</th>\n",
       "      <th>learning_rate</th>\n",
       "    </tr>\n",
       "    <tr>\n",
       "      <th>model</th>\n",
       "      <th></th>\n",
       "      <th></th>\n",
       "      <th></th>\n",
       "      <th></th>\n",
       "      <th></th>\n",
       "      <th></th>\n",
       "      <th></th>\n",
       "      <th></th>\n",
       "    </tr>\n",
       "  </thead>\n",
       "  <tbody>\n",
       "    <tr>\n",
       "      <th>RandomForest(best)</th>\n",
       "      <td>1071</td>\n",
       "      <td>sqrt</td>\n",
       "      <td>0.747</td>\n",
       "      <td>0.609</td>\n",
       "      <td>0.778</td>\n",
       "      <td>0.683</td>\n",
       "      <td>0.817</td>\n",
       "      <td>NaN</td>\n",
       "    </tr>\n",
       "    <tr>\n",
       "      <th>GradientBoosting(best)</th>\n",
       "      <td>419</td>\n",
       "      <td>None</td>\n",
       "      <td>0.753</td>\n",
       "      <td>0.667</td>\n",
       "      <td>0.593</td>\n",
       "      <td>0.627</td>\n",
       "      <td>0.826</td>\n",
       "      <td>0.019</td>\n",
       "    </tr>\n",
       "  </tbody>\n",
       "</table>\n",
       "</div>"
      ],
      "text/plain": [
       "                        n_estimators max_features  accuracy  precision  \\\n",
       "model                                                                    \n",
       "RandomForest(best)              1071         sqrt     0.747      0.609   \n",
       "GradientBoosting(best)           419         None     0.753      0.667   \n",
       "\n",
       "                        recall     f1  roc_auc  learning_rate  \n",
       "model                                                          \n",
       "RandomForest(best)       0.778  0.683    0.817            NaN  \n",
       "GradientBoosting(best)   0.593  0.627    0.826          0.019  "
      ]
     },
     "metadata": {},
     "output_type": "display_data"
    },
    {
     "name": "stdout",
     "output_type": "stream",
     "text": [
      "\n",
      "RF classification report:\n",
      "               precision    recall  f1-score   support\n",
      "\n",
      "           0      0.859     0.730     0.789       100\n",
      "           1      0.609     0.778     0.683        54\n",
      "\n",
      "    accuracy                          0.747       154\n",
      "   macro avg      0.734     0.754     0.736       154\n",
      "weighted avg      0.771     0.747     0.752       154\n",
      "\n",
      "\n",
      "GB classification report:\n",
      "               precision    recall  f1-score   support\n",
      "\n",
      "           0      0.792     0.840     0.816       100\n",
      "           1      0.667     0.593     0.627        54\n",
      "\n",
      "    accuracy                          0.753       154\n",
      "   macro avg      0.730     0.716     0.721       154\n",
      "weighted avg      0.748     0.753     0.750       154\n",
      "\n"
     ]
    },
    {
     "data": {
      "text/plain": [
       "<Figure size 640x480 with 0 Axes>"
      ]
     },
     "metadata": {},
     "output_type": "display_data"
    },
    {
     "data": {
      "image/png": "[encoded data removed]",
      "text/plain": [
       "<Figure size 640x480 with 1 Axes>"
      ]
     },
     "metadata": {},
     "output_type": "display_data"
    },
    {
     "data": {
      "text/plain": [
       "<Figure size 640x480 with 0 Axes>"
      ]
     },
     "metadata": {},
     "output_type": "display_data"
    },
    {
     "data": {
      "image/png": "[encoded data removed]",
      "text/plain": [
       "<Figure size 640x480 with 1 Axes>"
      ]
     },
     "metadata": {},
     "output_type": "display_data"
    },
    {
     "data": {
      "text/plain": [
       "<Figure size 640x480 with 0 Axes>"
      ]
     },
     "metadata": {},
     "output_type": "display_data"
    },
    {
     "data": {
      "image/png": "[encoded data removed]",
      "text/plain": [
       "<Figure size 640x480 with 1 Axes>"
      ]
     },
     "metadata": {},
     "output_type": "display_data"
    },
    {
     "data": {
      "text/plain": [
       "<Figure size 640x480 with 0 Axes>"
      ]
     },
     "metadata": {},
     "output_type": "display_data"
    },
    {
     "data": {
      "image/png": "[encoded data removed]",
      "text/plain": [
       "<Figure size 640x480 with 1 Axes>"
      ]
     },
     "metadata": {},
     "output_type": "display_data"
    },
    {
     "name": "stdout",
     "output_type": "stream",
     "text": [
      "\\nNotat — forklar forskjeller:\n",
      "- Flere trær (n_estimators) reduserer varians; RF vs GB balanserer dette ulikt.\n",
      "- max_features styrer tilfeldig variasjon per split: lavere verdi kan dempe overfitting (særlig i RF).\n",
      "- GB: lavere learning_rate krever flere trær men kan gi bedre generalisering; høy rate kan overfitte.\n",
      "- Kommentér trade-off precision/recall i lys av oppgavens kostnader (FP vs FN).\n"
     ]
    }
   ],
   "source": [
    "# 15) Sammenligning og kurver + kladd til forklaring\n",
    "cmp = pd.DataFrame([rf_metrics, gb_metrics]).set_index(\"model\")\n",
    "display(cmp.round(3))\n",
    "\n",
    "print(\"\\nRF classification report:\\n\", classification_report(y_test, y_pred_rf_opt, digits=3))\n",
    "print(\"\\nGB classification report:\\n\", classification_report(y_test, y_pred_gb_opt, digits=3))\n",
    "\n",
    "plt.figure(); RocCurveDisplay.from_predictions(y_test, y_proba_rf_opt); plt.title(\"ROC — RF (best)\"); plt.tight_layout(); plt.show()\n",
    "plt.figure(); RocCurveDisplay.from_predictions(y_test, y_proba_gb_opt); plt.title(\"ROC — GB (best)\"); plt.tight_layout(); plt.show()\n",
    "\n",
    "plt.figure(); PrecisionRecallDisplay.from_predictions(y_test, y_proba_rf_opt); plt.title(\"PR — RF (best)\"); plt.tight_layout(); plt.show()\n",
    "plt.figure(); PrecisionRecallDisplay.from_predictions(y_test, y_proba_gb_opt); plt.title(\"PR — GB (best)\"); plt.tight_layout(); plt.show()\n",
    "\n",
    "print(\"\\\\nNotat — forklar forskjeller:\")\n",
    "print(\"- Flere trær (n_estimators) reduserer varians; RF vs GB balanserer dette ulikt.\")\n",
    "print(\"- max_features styrer tilfeldig variasjon per split: lavere verdi kan dempe overfitting (særlig i RF).\")\n",
    "print(\"- GB: lavere learning_rate krever flere trær men kan gi bedre generalisering; høy rate kan overfitte.\")\n",
    "print(\"- Kommentér trade-off precision/recall i lys av oppgavens kostnader (FP vs FN).\")\n"
   ]
  }
 ],
 "metadata": {
  "kernelspec": {
   "display_name": "Python 3",
   "language": "python",
   "name": "python3"
  },
  "language_info": {
   "codemirror_mode": {
    "name": "ipython",
    "version": 3
   },
   "file_extension": ".py",
   "mimetype": "text/x-python",
   "name": "python",
   "nbconvert_exporter": "python",
   "pygments_lexer": "ipython3",
   "version": "3.11.5"
  }
 },
 "nbformat": 4,
 "nbformat_minor": 5
}
